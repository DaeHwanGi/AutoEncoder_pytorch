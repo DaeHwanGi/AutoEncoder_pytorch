{
 "cells": [
  {
   "cell_type": "markdown",
   "metadata": {},
   "source": [
    "## Import required libraries"
   ]
  },
  {
   "cell_type": "code",
   "execution_count": 1,
   "metadata": {},
   "outputs": [],
   "source": [
    "import numpy as np\n",
    "import matplotlib.pyplot as plt\n",
    "import time\n",
    "from skimage.util import random_noise\n",
    "\n",
    "import torch\n",
    "import torch.nn as nn\n",
    "import torch.optim as optim\n",
    "import torchvision.datasets as datasets\n",
    "import torchvision.transforms as transforms\n",
    "from torch.utils.data import DataLoader\n",
    "from torch.autograd import Variable\n",
    "import visdom\n",
    "\n",
    "from util.validation_set_split import validation_split\n",
    "from model.ConvAE import ConvAE"
   ]
  },
  {
   "cell_type": "markdown",
   "metadata": {},
   "source": [
    "## download and load MNIST dataset"
   ]
  },
  {
   "cell_type": "code",
   "execution_count": 2,
   "metadata": {},
   "outputs": [],
   "source": [
    "mnist_train = datasets.MNIST(\"./\", train=True, transform=transforms.ToTensor(), target_transform=None, download=True)\n",
    "mnist_test = datasets.MNIST(\"./\", train=False, transform=transforms.ToTensor(), target_transform=None, download=True)"
   ]
  },
  {
   "cell_type": "markdown",
   "metadata": {},
   "source": [
    "## Make validation dataset"
   ]
  },
  {
   "cell_type": "code",
   "execution_count": 3,
   "metadata": {},
   "outputs": [],
   "source": [
    "mnist_train, mnist_val = validation_split(mnist_train)"
   ]
  },
  {
   "cell_type": "markdown",
   "metadata": {},
   "source": [
    "## Set hyperparameters"
   ]
  },
  {
   "cell_type": "code",
   "execution_count": 4,
   "metadata": {},
   "outputs": [],
   "source": [
    "batch_size = 16\n",
    "learning_rate = 0.0002\n",
    "num_epoch = 500\n",
    "validate_every = 5\n",
    "max_patience = 3 # for early stopping\n",
    "sp_amount = 0.1 # Proportion of image pixels to replace with salt and pepper noise"
   ]
  },
  {
   "cell_type": "markdown",
   "metadata": {},
   "source": [
    "## Set dataloaders"
   ]
  },
  {
   "cell_type": "code",
   "execution_count": 5,
   "metadata": {},
   "outputs": [],
   "source": [
    "train_loader = torch.utils.data.DataLoader(mnist_train,batch_size=batch_size, shuffle=True,num_workers=2,drop_last=True)\n",
    "test_loader = torch.utils.data.DataLoader(mnist_test,batch_size=batch_size, shuffle=False,num_workers=2,drop_last=True)\n",
    "val_loader = torch.utils.data.DataLoader(mnist_val,batch_size=batch_size, shuffle=False,num_workers=2,drop_last=True)"
   ]
  },
  {
   "cell_type": "markdown",
   "metadata": {},
   "source": [
    "## Use GPU if GPU is available"
   ]
  },
  {
   "cell_type": "code",
   "execution_count": 6,
   "metadata": {},
   "outputs": [],
   "source": [
    "device = torch.device(\"cuda:0\" if torch.cuda.is_available() else \"cpu\")\n",
    "\n",
    "model = ConvAE().to(device)"
   ]
  },
  {
   "cell_type": "markdown",
   "metadata": {},
   "source": [
    "## You can load pretrained weight"
   ]
  },
  {
   "cell_type": "code",
   "execution_count": 7,
   "metadata": {},
   "outputs": [],
   "source": [
    "#model.load_state_dict(torch.load('pytorch_weight/ConvDAE.pt'))"
   ]
  },
  {
   "cell_type": "markdown",
   "metadata": {},
   "source": [
    "## Loss function, Optimizer"
   ]
  },
  {
   "cell_type": "code",
   "execution_count": 8,
   "metadata": {},
   "outputs": [],
   "source": [
    "loss_func = nn.MSELoss()\n",
    "optimizer = torch.optim.Adam(model.parameters(), lr=learning_rate)"
   ]
  },
  {
   "cell_type": "markdown",
   "metadata": {},
   "source": [
    "## Set visdom\n",
    "### please run visdom server before you implement (python -m visdom.server)"
   ]
  },
  {
   "cell_type": "code",
   "execution_count": 9,
   "metadata": {},
   "outputs": [],
   "source": [
    "vis = visdom.Visdom(port=8097)\n",
    "plot_opts = dict(showlegend=True,\n",
    "    width=900, height=600, title='Convolutional_Denoising_AutoEncoder',\n",
    "    xlabel='epoch', ylabel='Loss')"
   ]
  },
  {
   "cell_type": "markdown",
   "metadata": {},
   "source": [
    "## Train"
   ]
  },
  {
   "cell_type": "code",
   "execution_count": 13,
   "metadata": {},
   "outputs": [
    {
     "name": "stdout",
     "output_type": "stream",
     "text": [
      "Epoch : 0 , loss : 0.0152, took 14 sec\n",
      "Epoch : 1 , loss : 0.0152, took 15 secweights ard no longer updated\n"
     ]
    }
   ],
   "source": [
    "best_loss = 100.0\n",
    "last_loss = 0\n",
    "last_intput = None\n",
    "last_output = None\n",
    "patience = 0\n",
    "for epoch in range(num_epoch):\n",
    "    starting_time = time.time()\n",
    "    loss_log = []\n",
    "    for i,[image,label] in enumerate(train_loader):\n",
    "        noise = random_noise(image, mode='s&p', amount=sp_amount)\n",
    "        x = Variable(torch.FloatTensor(noise)).to(device)\n",
    "        optimizer.zero_grad()\n",
    "        # ===============forward=================\n",
    "        output = model.forward(x)\n",
    "        # ===============backward=================\n",
    "        loss = loss_func(output,image.to(device))\n",
    "        loss.backward()\n",
    "        optimizer.step()\n",
    "        \n",
    "        loss_log.append(loss.item())\n",
    "        last_intput = x\n",
    "        last_output = output\n",
    "\n",
    "    train_loss = np.mean(loss_log)\n",
    "    proc_time = (time.time()-starting_time)\n",
    "    \n",
    "    # visualization using visdom\n",
    "    if 'input_win' not in globals():\n",
    "        global input_win\n",
    "        input_win = vis.images(last_intput, opts=dict(title='input images (DAE)'))\n",
    "    else:\n",
    "        vis.images(last_intput, win=input_win, opts=dict(title='input images (DAE)'))\n",
    "        \n",
    "    if 'output_win' not in globals():\n",
    "        global output_win\n",
    "        output_win = vis.images(last_output, opts=dict(title='output images (DAE)'))\n",
    "    else:\n",
    "        vis.images(last_output, win=output_win, opts=dict(title='output images (DAE)'))\n",
    "        \n",
    "    if 'train_win' not in globals():\n",
    "        global train_win\n",
    "        train_win = vis.line(X=[epoch], Y=[train_loss],\n",
    "            opts=plot_opts, name='Training loss')\n",
    "    else:\n",
    "        vis.line(X=[epoch], Y=[train_loss],\n",
    "        win=train_win, opts=plot_opts, name='Training loss',update='append')\n",
    "        \n",
    "    # check validation dataset\n",
    "    if(epoch % validate_every == 0):\n",
    "        with torch.no_grad():\n",
    "            val_loss_log = []\n",
    "            for image,label in val_loader:\n",
    "                x = Variable(image).to(device)\n",
    "                output = model.forward(x)\n",
    "                loss = loss_func(output,x)\n",
    "                val_loss_log.append(loss.item())\n",
    "            val_loss = np.mean(val_loss_log)\n",
    "            # visualization\n",
    "            vis.line(X=[epoch], Y=[val_loss],win=train_win, \n",
    "                opts=dict(markers=True, showlegend=True), name='Validation loss', update='append')\n",
    "            if(val_loss < best_loss):\n",
    "                patience = 0\n",
    "                best_loss = val_loss\n",
    "            else:\n",
    "                patience += 1\n",
    "\n",
    "    if(patience > max_patience):\n",
    "        print(\"early stopping at {}\".format(epoch))\n",
    "        break\n",
    "    if(abs(last_loss - train_loss) < 1e-6):\n",
    "        print(\"weights ard no longer updated\")\n",
    "        break\n",
    "    last_loss = train_loss\n",
    "    print(\"\\rEpoch : {} , loss : {:.4f}, took {} sec\".format(epoch,train_loss,int(proc_time)), end=\"\")\n",
    "    if(epoch % 10 == 0):\n",
    "        print(\"\\rEpoch : {} , loss : {:.4f}, took {} sec\".format(epoch,train_loss,int(proc_time)))"
   ]
  },
  {
   "cell_type": "markdown",
   "metadata": {},
   "source": [
    "## Save model"
   ]
  },
  {
   "cell_type": "code",
   "execution_count": 14,
   "metadata": {},
   "outputs": [],
   "source": [
    "torch.save(model.state_dict(), 'pytorch_weight/ConvDAE.pt')"
   ]
  },
  {
   "cell_type": "markdown",
   "metadata": {},
   "source": [
    "## Check with Train Image"
   ]
  },
  {
   "cell_type": "code",
   "execution_count": 15,
   "metadata": {},
   "outputs": [
    {
     "data": {
      "image/png": "[encoded data removed]",
      "text/plain": [
       "<matplotlib.figure.Figure at 0x7f5691843940>"
      ]
     },
     "metadata": {},
     "output_type": "display_data"
    }
   ],
   "source": [
    "%matplotlib inline\n",
    "\n",
    "fig = plt.figure(figsize=(12, 3))\n",
    "fig.subplots_adjust(wspace=0, hspace=0)\n",
    "num_to_print = 8\n",
    "index = 5\n",
    "\n",
    "out_img = torch.squeeze(output.cpu().data)\n",
    "\n",
    "for i in range(num_to_print):\n",
    "    ax1 = fig.add_subplot(2, num_to_print, 1+i)\n",
    "    ax2 = fig.add_subplot(2, num_to_print, (num_to_print+1)+i)\n",
    "    ax1.imshow(torch.squeeze(image[i]).numpy(),cmap='gray')\n",
    "    ax2.imshow(out_img[i].numpy(),cmap='gray')\n",
    "    ax1.axis('off')\n",
    "    ax2.axis('off')"
   ]
  },
  {
   "cell_type": "markdown",
   "metadata": {},
   "source": [
    "## Filter Visualization"
   ]
  },
  {
   "cell_type": "code",
   "execution_count": 16,
   "metadata": {},
   "outputs": [
    {
     "data": {
      "image/png": "[encoded data removed]",
      "text/plain": [
       "<matplotlib.figure.Figure at 0x7f5691843128>"
      ]
     },
     "metadata": {},
     "output_type": "display_data"
    }
   ],
   "source": [
    "# first convolution layer\n",
    "weight = torch.squeeze(model.encoder[0].weight.cpu().data)\n",
    "fig = plt.figure(figsize=(6, 6))\n",
    "fig.subplots_adjust(wspace=0.2, hspace=0.2)\n",
    "\n",
    "for i in range(16):\n",
    "    ax = fig.add_subplot(4,4, 1+i)\n",
    "    ax.imshow(weight[i], 'gray')\n",
    "    ax.axis('off')"
   ]
  },
  {
   "cell_type": "code",
   "execution_count": null,
   "metadata": {},
   "outputs": [],
   "source": []
  }
 ],
 "metadata": {
  "kernelspec": {
   "display_name": "Python 3",
   "language": "python",
   "name": "python3"
  },
  "language_info": {
   "codemirror_mode": {
    "name": "ipython",
    "version": 3
   },
   "file_extension": ".py",
   "mimetype": "text/x-python",
   "name": "python",
   "nbconvert_exporter": "python",
   "pygments_lexer": "ipython3",
   "version": "3.6.4"
  }
 },
 "nbformat": 4,
 "nbformat_minor": 2
}
